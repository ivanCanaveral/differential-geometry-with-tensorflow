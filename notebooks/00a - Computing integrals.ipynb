{
 "cells": [
  {
   "cell_type": "markdown",
   "metadata": {},
   "source": [
    "# Computing integrals in tensorflow"
   ]
  },
  {
   "cell_type": "markdown",
   "metadata": {},
   "source": [
    "Tensorflow currently has no tools for numerical integration. Therefore, we will develop here some methods that will allow us to perform these calculations, using tensorflow's native functions."
   ]
  },
  {
   "cell_type": "code",
   "execution_count": null,
   "metadata": {},
   "outputs": [],
   "source": [
    "from math import pi\n",
    "import tensorflow as tf\n",
    "import matplotlib.pyplot as plt"
   ]
  },
  {
   "cell_type": "markdown",
   "metadata": {},
   "source": [
    "## Riemann sums"
   ]
  },
  {
   "cell_type": "markdown",
   "metadata": {},
   "source": [
    "As we did in the notebook `Computing gradients`, we will use the definition as a first approach. In this case, the definition given by Riemann."
   ]
  },
  {
   "cell_type": "markdown",
   "metadata": {},
   "source": [
    "**Definition:** A partition of the interval $(x_0, x_n)$ is a sequence of points $x_i \\in (x_0, x_n)$ such that if $i < j \\iff x_i < x_j$, $\\forall i, j \\in (0,n)$."
   ]
  },
  {
   "cell_type": "markdown",
   "metadata": {},
   "source": [
    "Then,"
   ]
  },
  {
   "cell_type": "markdown",
   "metadata": {},
   "source": [
    "\\begin{equation}\n",
    "s(f, h) = \\sum_{i=1}^n (x_{i} - x_{i-1}) f(x_i) \\leq \\sum_{i=0}^n (x_{i+1} - x_{i}) f(x_i) = S(f, h)\n",
    "\\end{equation}\n",
    "where $ h $ is a partition of the interval $ (x_0, x_n) $."
   ]
  },
  {
   "cell_type": "code",
   "execution_count": null,
   "metadata": {},
   "outputs": [],
   "source": [
    "def left_riemann_sum(f, h):\n",
    "    left_points = tf.slice(h, [0], [t.get_shape()[0] - 1])\n",
    "    right_points = tf.slice(h, [1], [t.get_shape()[0] - 1])\n",
    "    intervals_length = right_points - left_points\n",
    "    y = f(left_points)\n",
    "    return tf.reduce_sum(y * intervals_length)"
   ]
  },
  {
   "cell_type": "code",
   "execution_count": null,
   "metadata": {},
   "outputs": [],
   "source": [
    "def right_riemann_sum(f, h):\n",
    "    left_points = tf.slice(h, [0], [t.get_shape()[0] - 1])\n",
    "    right_points = tf.slice(h, [1], [t.get_shape()[0] - 1])\n",
    "    intervals_length = right_points - left_points\n",
    "    y = f(right_points)\n",
    "    return tf.reduce_sum(y * intervals_length)"
   ]
  },
  {
   "cell_type": "code",
   "execution_count": null,
   "metadata": {},
   "outputs": [],
   "source": [
    "left_errors = []\n",
    "right_errors = []\n",
    "x_0 = tf.constant(-pi/2, dtype=tf.float64)\n",
    "x_1 = tf.constant(pi/2, dtype=tf.float64)\n",
    "for n in range(5, 16):\n",
    "    h = tf.linspace(a, b, 2**n+1)\n",
    "    left_errors.append(abs(left_riemann_sum(tf.sin, h)))\n",
    "    right_errors.append(abs(right_riemann_sum(tf.sin, h)))"
   ]
  },
  {
   "cell_type": "code",
   "execution_count": null,
   "metadata": {},
   "outputs": [],
   "source": [
    "plt.plot(left_errors, label='left riemann sum')\n",
    "plt.plot(right_errors, label='right riemann sum')\n",
    "plt.legend()"
   ]
  }
 ],
 "metadata": {
  "kernelspec": {
   "display_name": "Python 3",
   "language": "python",
   "name": "python3"
  },
  "language_info": {
   "codemirror_mode": {
    "name": "ipython",
    "version": 3
   },
   "file_extension": ".py",
   "mimetype": "text/x-python",
   "name": "python",
   "nbconvert_exporter": "python",
   "pygments_lexer": "ipython3",
   "version": "3.6.5"
  }
 },
 "nbformat": 4,
 "nbformat_minor": 4
}
